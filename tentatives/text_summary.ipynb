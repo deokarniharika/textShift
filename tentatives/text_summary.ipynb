{
  "nbformat": 4,
  "nbformat_minor": 0,
  "metadata": {
    "colab": {
      "name": "text-summary.ipynb",
      "provenance": []
    },
    "kernelspec": {
      "name": "python3",
      "display_name": "Python 3"
    },
    "language_info": {
      "name": "python"
    }
  },
  "cells": [
    {
      "cell_type": "code",
      "execution_count": 2,
      "metadata": {
        "colab": {
          "base_uri": "https://localhost:8080/"
        },
        "id": "dDthmGmmXvSW",
        "outputId": "95903a5d-3a05-4492-e8de-cab960f8cdf2"
      },
      "outputs": [
        {
          "output_type": "stream",
          "name": "stdout",
          "text": [
            "Looking in indexes: https://pypi.org/simple, https://us-python.pkg.dev/colab-wheels/public/simple/\n",
            "Collecting transformers\n",
            "  Downloading transformers-4.21.1-py3-none-any.whl (4.7 MB)\n",
            "\u001b[K     |████████████████████████████████| 4.7 MB 7.8 MB/s \n",
            "\u001b[?25hRequirement already satisfied: torch in /usr/local/lib/python3.7/dist-packages (1.12.0+cu113)\n",
            "Collecting sentencepiece\n",
            "  Downloading sentencepiece-0.1.97-cp37-cp37m-manylinux_2_17_x86_64.manylinux2014_x86_64.whl (1.3 MB)\n",
            "\u001b[K     |████████████████████████████████| 1.3 MB 59.7 MB/s \n",
            "\u001b[?25hRequirement already satisfied: requests in /usr/local/lib/python3.7/dist-packages (from transformers) (2.23.0)\n",
            "Collecting pyyaml>=5.1\n",
            "  Downloading PyYAML-6.0-cp37-cp37m-manylinux_2_5_x86_64.manylinux1_x86_64.manylinux_2_12_x86_64.manylinux2010_x86_64.whl (596 kB)\n",
            "\u001b[K     |████████████████████████████████| 596 kB 58.9 MB/s \n",
            "\u001b[?25hCollecting huggingface-hub<1.0,>=0.1.0\n",
            "  Downloading huggingface_hub-0.8.1-py3-none-any.whl (101 kB)\n",
            "\u001b[K     |████████████████████████████████| 101 kB 14.6 MB/s \n",
            "\u001b[?25hRequirement already satisfied: filelock in /usr/local/lib/python3.7/dist-packages (from transformers) (3.7.1)\n",
            "Requirement already satisfied: packaging>=20.0 in /usr/local/lib/python3.7/dist-packages (from transformers) (21.3)\n",
            "Requirement already satisfied: tqdm>=4.27 in /usr/local/lib/python3.7/dist-packages (from transformers) (4.64.0)\n",
            "Requirement already satisfied: numpy>=1.17 in /usr/local/lib/python3.7/dist-packages (from transformers) (1.21.6)\n",
            "Requirement already satisfied: regex!=2019.12.17 in /usr/local/lib/python3.7/dist-packages (from transformers) (2022.6.2)\n",
            "Collecting tokenizers!=0.11.3,<0.13,>=0.11.1\n",
            "  Downloading tokenizers-0.12.1-cp37-cp37m-manylinux_2_12_x86_64.manylinux2010_x86_64.whl (6.6 MB)\n",
            "\u001b[K     |████████████████████████████████| 6.6 MB 56.7 MB/s \n",
            "\u001b[?25hRequirement already satisfied: importlib-metadata in /usr/local/lib/python3.7/dist-packages (from transformers) (4.12.0)\n",
            "Requirement already satisfied: typing-extensions>=3.7.4.3 in /usr/local/lib/python3.7/dist-packages (from huggingface-hub<1.0,>=0.1.0->transformers) (4.1.1)\n",
            "Requirement already satisfied: pyparsing!=3.0.5,>=2.0.2 in /usr/local/lib/python3.7/dist-packages (from packaging>=20.0->transformers) (3.0.9)\n",
            "Requirement already satisfied: zipp>=0.5 in /usr/local/lib/python3.7/dist-packages (from importlib-metadata->transformers) (3.8.1)\n",
            "Requirement already satisfied: certifi>=2017.4.17 in /usr/local/lib/python3.7/dist-packages (from requests->transformers) (2022.6.15)\n",
            "Requirement already satisfied: urllib3!=1.25.0,!=1.25.1,<1.26,>=1.21.1 in /usr/local/lib/python3.7/dist-packages (from requests->transformers) (1.24.3)\n",
            "Requirement already satisfied: chardet<4,>=3.0.2 in /usr/local/lib/python3.7/dist-packages (from requests->transformers) (3.0.4)\n",
            "Requirement already satisfied: idna<3,>=2.5 in /usr/local/lib/python3.7/dist-packages (from requests->transformers) (2.10)\n",
            "Installing collected packages: pyyaml, tokenizers, huggingface-hub, transformers, sentencepiece\n",
            "  Attempting uninstall: pyyaml\n",
            "    Found existing installation: PyYAML 3.13\n",
            "    Uninstalling PyYAML-3.13:\n",
            "      Successfully uninstalled PyYAML-3.13\n",
            "Successfully installed huggingface-hub-0.8.1 pyyaml-6.0 sentencepiece-0.1.97 tokenizers-0.12.1 transformers-4.21.1\n"
          ]
        }
      ],
      "source": [
        "#using the HuggingFace's Transformers library\n",
        "pip install transformers torch sentencepiece"
      ]
    },
    {
      "cell_type": "code",
      "source": [
        "#to get the word count \n",
        "str1=\"\"\"Try eliminating the amount of meat, fish or dairy you eat each day. Doing this will help to cut greenhouse gas emissions and reduce energy consumption. According to an Independent article, you could reduce your \"carbon footprint from food by up to 73 percent\" just by incorporating a vegan diet!\n",
        "\n",
        "Finally, is the pandemic over? Or are we just in a lull? Don't throw away those masks just yet. And if we do have to mask up again, you can go green by wearing reusable masks. You can find reusable masks at just about any retailer, and they are just as effective as medical grade, disposable masks. Disposable masks are extremely wasteful; and if you want to feel especially convicted, just Google how masks are affecting wildlife.\"\"\"\n",
        "print(\"The original string is: \" + str1)\n",
        "num=len(str1.split())\n",
        "print(\"The word count is: \"+str(num))"
      ],
      "metadata": {
        "colab": {
          "base_uri": "https://localhost:8080/"
        },
        "id": "Nzrq5kFwdpf7",
        "outputId": "6c4570dc-fa4a-4072-a599-3fc10a03bac5"
      },
      "execution_count": 17,
      "outputs": [
        {
          "output_type": "stream",
          "name": "stdout",
          "text": [
            "The original string is: Try eliminating the amount of meat, fish or dairy you eat each day. Doing this will help to cut greenhouse gas emissions and reduce energy consumption. According to an Independent article, you could reduce your \"carbon footprint from food by up to 73 percent\" just by incorporating a vegan diet!\n",
            "\n",
            "Finally, is the pandemic over? Or are we just in a lull? Don't throw away those masks just yet. And if we do have to mask up again, you can go green by wearing reusable masks. You can find reusable masks at just about any retailer, and they are just as effective as medical grade, disposable masks. Disposable masks are extremely wasteful; and if you want to feel especially convicted, just Google how masks are affecting wildlife.\n",
            "The word count is: 127\n"
          ]
        }
      ]
    },
    {
      "cell_type": "code",
      "source": [
        "from transformers import pipeline\n",
        "summarization = pipeline(\"summarization\")\n",
        "val = input(\"Enter your value: \")\n",
        "summary_text = summarization(val)[0]['summary_text']\n",
        "print(\"Summary:\", summary_text)\n",
        "\n",
        "#This library will give abstractive text summarization\n",
        "\n",
        "print(\"The summary of the text you entered is: \",summary_text)"
      ],
      "metadata": {
        "colab": {
          "base_uri": "https://localhost:8080/"
        },
        "id": "hg6d0ETIZyPS",
        "outputId": "70682d1e-b8d6-4f5b-9f06-7414443aaa37"
      },
      "execution_count": 14,
      "outputs": [
        {
          "output_type": "stream",
          "name": "stderr",
          "text": [
            "No model was supplied, defaulted to sshleifer/distilbart-cnn-12-6 and revision a4f8f3e (https://huggingface.co/sshleifer/distilbart-cnn-12-6).\n",
            "Using a pipeline without specifying a model name and revision in production is not recommended.\n"
          ]
        },
        {
          "output_type": "stream",
          "name": "stdout",
          "text": [
            "Enter your value: Green is a secondary colour, it is made by mixing together blue and yellow.Green is the most common colour in nature.The name green originates from the middle English word Grene.Its the colour of nature. Did you know that green is the second favourite colour in the world ? Green is a colour found in the rainbow so we can see it as white light falls into an object all other colour are absorbed other than green.when the green rays bounce off , we can see the colour.  There are many shades of green. Psychological effects  Green colour can have many postive and negative effects on a person.Have you noticed that in cartoons the colour green shows sickness ?It…show more content… Effect of green at different ages; Green is an energizing colour so brighter shades are more preferred by children and light pastel shades are liked by the older age group.Young people seem to like green more than older people. Also men and women  like green equally.Did you know that green is the colour our eyes are most sensitive to, that is why night vision cameras are in green . Green in marketing Green marketing is a widely used concept.Green marketing is where environmentally friendly products that can be recycled are made.This is done to conserve and protect the environment . \n",
            "Summary:  Green is a secondary colour, it is made by mixing together blue and yellow . The name green originates from the middle English word Grene . Young people seem to like green more than older people . Green marketing is where environmentally friendly products that can be recycled are made .\n",
            "The summary of the text you entered is:   Green is a secondary colour, it is made by mixing together blue and yellow . The name green originates from the middle English word Grene . Young people seem to like green more than older people . Green marketing is where environmentally friendly products that can be recycled are made .\n"
          ]
        }
      ]
    },
    {
      "cell_type": "code",
      "source": [
        "#taking the summary of the text that has already been provided\n",
        "#using the pipeline API to get the summary of a text\n",
        "\n",
        "text=\"\"\"\n",
        "aesthetics, also spelled esthetics, the philosophical study of beauty and taste. It is closely related to the philosophy of art, which is concerned with the nature of art and the concepts in terms of which individual works of art are interpreted and evaluated.To provide more than a general definition of the subject matter of aesthetics is immensely difficult. \n",
        "We are acquainted with an interesting and puzzling realm of experience: the realm of the beautiful, the ugly, the sublime, and the elegant; of taste, criticism, and fine art; and of contemplation, sensuous enjoyment, and charm. In all these phenomena we believe that similar principles are operative and that similar interests are engaged. If we are mistaken in this impression, we will have to dismiss such ideas as beauty and taste as having only peripheral philosophical interest. Alternatively, if our impression is correct and philosophy corroborates it, we will have discovered the basis for a philosophical aesthetics.\n",
        "\"\"\"\n",
        "summary_text = summarization(text)[0]['summary_text']\n",
        "print(\"Summary:\", summary_text)\n",
        "\n",
        "#This library will give abstractive text summarization"
      ],
      "metadata": {
        "colab": {
          "base_uri": "https://localhost:8080/"
        },
        "id": "cBLjjP-6dHeO",
        "outputId": "95b52188-b8fc-48fb-8e8b-d067292a68e2"
      },
      "execution_count": 16,
      "outputs": [
        {
          "output_type": "stream",
          "name": "stdout",
          "text": [
            "Summary:  Aesthetics is the philosophical study of beauty and taste . It is closely related to the philosophy of art, which is concerned with the nature of art and the concepts in terms of which individual works of art are interpreted and evaluated . To provide more than a general definition of the subject matter of aesthetics is immensely difficult .\n"
          ]
        }
      ]
    }
  ]
}